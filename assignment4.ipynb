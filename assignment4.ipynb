{
 "cells": [
  {
   "cell_type": "code",
   "execution_count": 240,
   "id": "79b75b33",
   "metadata": {},
   "outputs": [],
   "source": [
    "# Imports and pip installations (if needed)\n",
    "import matplotlib.pyplot as plt\n",
    "from mpl_toolkits.mplot3d import Axes3D\n",
    "from sklearn import datasets\n",
    "from sklearn.decomposition import PCA\n",
    "from sklearn.datasets import load_iris\n",
    "import pandas as pd\n",
    "import numpy as np\n",
    "\n",
    "# import some data to play with\n",
    "iris = load_iris()"
   ]
  },
  {
   "cell_type": "markdown",
   "id": "a7372af1",
   "metadata": {},
   "source": [
    "# Part 1: Load the dataset"
   ]
  },
  {
   "cell_type": "code",
   "execution_count": 247,
   "id": "2ca718f9",
   "metadata": {},
   "outputs": [],
   "source": [
    "# Load the dataset (load remotely, not locally)\n",
    "\n",
    "# Output the first 15 rows of the data\n",
    "# Display a summary of the table information (number of datapoints, etc.)\n",
    "df = pd.DataFrame(iris.data, columns=iris.feature_names)"
   ]
  },
  {
   "cell_type": "code",
   "execution_count": 248,
   "id": "b8df22d8",
   "metadata": {},
   "outputs": [
    {
     "data": {
      "text/plain": [
       "array(['setosa', 'versicolor', 'virginica'], dtype='<U10')"
      ]
     },
     "execution_count": 248,
     "metadata": {},
     "output_type": "execute_result"
    }
   ],
   "source": [
    "iris.target_names"
   ]
  },
  {
   "cell_type": "code",
   "execution_count": 250,
   "id": "07bb7add",
   "metadata": {
    "code_folding": []
   },
   "outputs": [
    {
     "data": {
      "text/plain": [
       "150"
      ]
     },
     "execution_count": 250,
     "metadata": {},
     "output_type": "execute_result"
    }
   ],
   "source": [
    "# print the encoding scheme for species: 0 = setosa, 1 = versicolor, 2 = virginica\n",
    "targets = []\n",
    "for i in iris.target:\n",
    "    #print(i)\n",
    "    if i==0:\n",
    "        targets.append(\"setosa\")\n",
    "    elif i==1:\n",
    "        targets.append(\"versicolor\")\n",
    "    else:\n",
    "        targets.append(\"virginica\")\n",
    "   # targets.append(i)\n",
    "len(targets)"
   ]
  },
  {
   "cell_type": "code",
   "execution_count": 252,
   "id": "0ca6bfaa",
   "metadata": {},
   "outputs": [
    {
     "data": {
      "text/html": [
       "<div>\n",
       "<style scoped>\n",
       "    .dataframe tbody tr th:only-of-type {\n",
       "        vertical-align: middle;\n",
       "    }\n",
       "\n",
       "    .dataframe tbody tr th {\n",
       "        vertical-align: top;\n",
       "    }\n",
       "\n",
       "    .dataframe thead th {\n",
       "        text-align: right;\n",
       "    }\n",
       "</style>\n",
       "<table border=\"1\" class=\"dataframe\">\n",
       "  <thead>\n",
       "    <tr style=\"text-align: right;\">\n",
       "      <th></th>\n",
       "      <th>sepal length (cm)</th>\n",
       "      <th>sepal width (cm)</th>\n",
       "      <th>petal length (cm)</th>\n",
       "      <th>petal width (cm)</th>\n",
       "      <th>Species</th>\n",
       "    </tr>\n",
       "  </thead>\n",
       "  <tbody>\n",
       "    <tr>\n",
       "      <th>0</th>\n",
       "      <td>5.1</td>\n",
       "      <td>3.5</td>\n",
       "      <td>1.4</td>\n",
       "      <td>0.2</td>\n",
       "      <td>setosa</td>\n",
       "    </tr>\n",
       "    <tr>\n",
       "      <th>1</th>\n",
       "      <td>4.9</td>\n",
       "      <td>3.0</td>\n",
       "      <td>1.4</td>\n",
       "      <td>0.2</td>\n",
       "      <td>setosa</td>\n",
       "    </tr>\n",
       "    <tr>\n",
       "      <th>2</th>\n",
       "      <td>4.7</td>\n",
       "      <td>3.2</td>\n",
       "      <td>1.3</td>\n",
       "      <td>0.2</td>\n",
       "      <td>setosa</td>\n",
       "    </tr>\n",
       "    <tr>\n",
       "      <th>3</th>\n",
       "      <td>4.6</td>\n",
       "      <td>3.1</td>\n",
       "      <td>1.5</td>\n",
       "      <td>0.2</td>\n",
       "      <td>setosa</td>\n",
       "    </tr>\n",
       "    <tr>\n",
       "      <th>4</th>\n",
       "      <td>5.0</td>\n",
       "      <td>3.6</td>\n",
       "      <td>1.4</td>\n",
       "      <td>0.2</td>\n",
       "      <td>setosa</td>\n",
       "    </tr>\n",
       "    <tr>\n",
       "      <th>5</th>\n",
       "      <td>5.4</td>\n",
       "      <td>3.9</td>\n",
       "      <td>1.7</td>\n",
       "      <td>0.4</td>\n",
       "      <td>setosa</td>\n",
       "    </tr>\n",
       "    <tr>\n",
       "      <th>6</th>\n",
       "      <td>4.6</td>\n",
       "      <td>3.4</td>\n",
       "      <td>1.4</td>\n",
       "      <td>0.3</td>\n",
       "      <td>setosa</td>\n",
       "    </tr>\n",
       "    <tr>\n",
       "      <th>7</th>\n",
       "      <td>5.0</td>\n",
       "      <td>3.4</td>\n",
       "      <td>1.5</td>\n",
       "      <td>0.2</td>\n",
       "      <td>setosa</td>\n",
       "    </tr>\n",
       "    <tr>\n",
       "      <th>8</th>\n",
       "      <td>4.4</td>\n",
       "      <td>2.9</td>\n",
       "      <td>1.4</td>\n",
       "      <td>0.2</td>\n",
       "      <td>setosa</td>\n",
       "    </tr>\n",
       "    <tr>\n",
       "      <th>9</th>\n",
       "      <td>4.9</td>\n",
       "      <td>3.1</td>\n",
       "      <td>1.5</td>\n",
       "      <td>0.1</td>\n",
       "      <td>setosa</td>\n",
       "    </tr>\n",
       "    <tr>\n",
       "      <th>10</th>\n",
       "      <td>5.4</td>\n",
       "      <td>3.7</td>\n",
       "      <td>1.5</td>\n",
       "      <td>0.2</td>\n",
       "      <td>setosa</td>\n",
       "    </tr>\n",
       "    <tr>\n",
       "      <th>11</th>\n",
       "      <td>4.8</td>\n",
       "      <td>3.4</td>\n",
       "      <td>1.6</td>\n",
       "      <td>0.2</td>\n",
       "      <td>setosa</td>\n",
       "    </tr>\n",
       "    <tr>\n",
       "      <th>12</th>\n",
       "      <td>4.8</td>\n",
       "      <td>3.0</td>\n",
       "      <td>1.4</td>\n",
       "      <td>0.1</td>\n",
       "      <td>setosa</td>\n",
       "    </tr>\n",
       "    <tr>\n",
       "      <th>13</th>\n",
       "      <td>4.3</td>\n",
       "      <td>3.0</td>\n",
       "      <td>1.1</td>\n",
       "      <td>0.1</td>\n",
       "      <td>setosa</td>\n",
       "    </tr>\n",
       "    <tr>\n",
       "      <th>14</th>\n",
       "      <td>5.8</td>\n",
       "      <td>4.0</td>\n",
       "      <td>1.2</td>\n",
       "      <td>0.2</td>\n",
       "      <td>setosa</td>\n",
       "    </tr>\n",
       "  </tbody>\n",
       "</table>\n",
       "</div>"
      ],
      "text/plain": [
       "    sepal length (cm)  sepal width (cm)  petal length (cm)  petal width (cm)  \\\n",
       "0                 5.1               3.5                1.4               0.2   \n",
       "1                 4.9               3.0                1.4               0.2   \n",
       "2                 4.7               3.2                1.3               0.2   \n",
       "3                 4.6               3.1                1.5               0.2   \n",
       "4                 5.0               3.6                1.4               0.2   \n",
       "5                 5.4               3.9                1.7               0.4   \n",
       "6                 4.6               3.4                1.4               0.3   \n",
       "7                 5.0               3.4                1.5               0.2   \n",
       "8                 4.4               2.9                1.4               0.2   \n",
       "9                 4.9               3.1                1.5               0.1   \n",
       "10                5.4               3.7                1.5               0.2   \n",
       "11                4.8               3.4                1.6               0.2   \n",
       "12                4.8               3.0                1.4               0.1   \n",
       "13                4.3               3.0                1.1               0.1   \n",
       "14                5.8               4.0                1.2               0.2   \n",
       "\n",
       "   Species  \n",
       "0   setosa  \n",
       "1   setosa  \n",
       "2   setosa  \n",
       "3   setosa  \n",
       "4   setosa  \n",
       "5   setosa  \n",
       "6   setosa  \n",
       "7   setosa  \n",
       "8   setosa  \n",
       "9   setosa  \n",
       "10  setosa  \n",
       "11  setosa  \n",
       "12  setosa  \n",
       "13  setosa  \n",
       "14  setosa  "
      ]
     },
     "execution_count": 252,
     "metadata": {},
     "output_type": "execute_result"
    }
   ],
   "source": [
    "df[\"Species\"] = targets\n",
    "# Output the first 15 rows of the data\n",
    "df.head(15)"
   ]
  },
  {
   "cell_type": "code",
   "execution_count": 187,
   "id": "d4683b47",
   "metadata": {},
   "outputs": [
    {
     "name": "stdout",
     "output_type": "stream",
     "text": [
      "<class 'pandas.core.frame.DataFrame'>\n",
      "RangeIndex: 150 entries, 0 to 149\n",
      "Data columns (total 4 columns):\n",
      " #   Column             Non-Null Count  Dtype  \n",
      "---  ------             --------------  -----  \n",
      " 0   sepal length (cm)  150 non-null    float64\n",
      " 1   sepal width (cm)   150 non-null    float64\n",
      " 2   petal length (cm)  150 non-null    float64\n",
      " 3   petal width (cm)   150 non-null    float64\n",
      "dtypes: float64(4)\n",
      "memory usage: 4.8 KB\n"
     ]
    }
   ],
   "source": [
    "# Display a summary of the table information (number of datapoints, etc.)\n",
    "df.info()"
   ]
  },
  {
   "cell_type": "code",
   "execution_count": 86,
   "id": "f3635070",
   "metadata": {},
   "outputs": [
    {
     "data": {
      "text/html": [
       "<div>\n",
       "<style scoped>\n",
       "    .dataframe tbody tr th:only-of-type {\n",
       "        vertical-align: middle;\n",
       "    }\n",
       "\n",
       "    .dataframe tbody tr th {\n",
       "        vertical-align: top;\n",
       "    }\n",
       "\n",
       "    .dataframe thead th {\n",
       "        text-align: right;\n",
       "    }\n",
       "</style>\n",
       "<table border=\"1\" class=\"dataframe\">\n",
       "  <thead>\n",
       "    <tr style=\"text-align: right;\">\n",
       "      <th></th>\n",
       "      <th>sepal length (cm)</th>\n",
       "      <th>sepal width (cm)</th>\n",
       "      <th>petal length (cm)</th>\n",
       "      <th>petal width (cm)</th>\n",
       "    </tr>\n",
       "  </thead>\n",
       "  <tbody>\n",
       "    <tr>\n",
       "      <th>count</th>\n",
       "      <td>150.000000</td>\n",
       "      <td>150.000000</td>\n",
       "      <td>150.000000</td>\n",
       "      <td>150.000000</td>\n",
       "    </tr>\n",
       "    <tr>\n",
       "      <th>mean</th>\n",
       "      <td>5.843333</td>\n",
       "      <td>3.057333</td>\n",
       "      <td>3.758000</td>\n",
       "      <td>1.199333</td>\n",
       "    </tr>\n",
       "    <tr>\n",
       "      <th>std</th>\n",
       "      <td>0.828066</td>\n",
       "      <td>0.435866</td>\n",
       "      <td>1.765298</td>\n",
       "      <td>0.762238</td>\n",
       "    </tr>\n",
       "    <tr>\n",
       "      <th>min</th>\n",
       "      <td>4.300000</td>\n",
       "      <td>2.000000</td>\n",
       "      <td>1.000000</td>\n",
       "      <td>0.100000</td>\n",
       "    </tr>\n",
       "    <tr>\n",
       "      <th>25%</th>\n",
       "      <td>5.100000</td>\n",
       "      <td>2.800000</td>\n",
       "      <td>1.600000</td>\n",
       "      <td>0.300000</td>\n",
       "    </tr>\n",
       "    <tr>\n",
       "      <th>50%</th>\n",
       "      <td>5.800000</td>\n",
       "      <td>3.000000</td>\n",
       "      <td>4.350000</td>\n",
       "      <td>1.300000</td>\n",
       "    </tr>\n",
       "    <tr>\n",
       "      <th>75%</th>\n",
       "      <td>6.400000</td>\n",
       "      <td>3.300000</td>\n",
       "      <td>5.100000</td>\n",
       "      <td>1.800000</td>\n",
       "    </tr>\n",
       "    <tr>\n",
       "      <th>max</th>\n",
       "      <td>7.900000</td>\n",
       "      <td>4.400000</td>\n",
       "      <td>6.900000</td>\n",
       "      <td>2.500000</td>\n",
       "    </tr>\n",
       "  </tbody>\n",
       "</table>\n",
       "</div>"
      ],
      "text/plain": [
       "       sepal length (cm)  sepal width (cm)  petal length (cm)  \\\n",
       "count         150.000000        150.000000         150.000000   \n",
       "mean            5.843333          3.057333           3.758000   \n",
       "std             0.828066          0.435866           1.765298   \n",
       "min             4.300000          2.000000           1.000000   \n",
       "25%             5.100000          2.800000           1.600000   \n",
       "50%             5.800000          3.000000           4.350000   \n",
       "75%             6.400000          3.300000           5.100000   \n",
       "max             7.900000          4.400000           6.900000   \n",
       "\n",
       "       petal width (cm)  \n",
       "count        150.000000  \n",
       "mean           1.199333  \n",
       "std            0.762238  \n",
       "min            0.100000  \n",
       "25%            0.300000  \n",
       "50%            1.300000  \n",
       "75%            1.800000  \n",
       "max            2.500000  "
      ]
     },
     "execution_count": 86,
     "metadata": {},
     "output_type": "execute_result"
    }
   ],
   "source": [
    "df.describe()"
   ]
  },
  {
   "cell_type": "markdown",
   "id": "0568e358",
   "metadata": {},
   "source": [
    "About the dataset\n",
    "Explain whats the data is in your own words. What are your features and labels? What is the mapping of your labels to the actual classes?  \n",
    "\n",
    "Features: the width and length of the sepal, the width and length of the petal\n",
    "Target: species \n",
    "The iris dataset contains the following data\n",
    "50 samples of 3 different species of iris with 150 samples total\n",
    "Measurements: sepal length, sepal width, petal length, petal width\n",
    "the goal is to classify the species of the flower.\n"
   ]
  },
  {
   "cell_type": "markdown",
   "id": "56d219a1",
   "metadata": {},
   "source": [
    "# Split the Dataset"
   ]
  },
  {
   "cell_type": "code",
   "execution_count": 253,
   "id": "aa252d9b",
   "metadata": {},
   "outputs": [],
   "source": [
    "# Output the first 15 rows of the data\n",
    "# Display a summary of the table information (number of datapoints, etc.)\n",
    "X= df[['sepal length (cm)','sepal width (cm)','petal length (cm)','petal width (cm)']]\n",
    "y= df[['Species']] \n"
   ]
  },
  {
   "cell_type": "code",
   "execution_count": 283,
   "id": "7f64eef5",
   "metadata": {},
   "outputs": [],
   "source": [
    "# Take the dataset and split it into our features (X) and label (y)\n",
    "# Use sklearn to split the features and labels into a training/test set. (90% train, 10% test)\n",
    "from sklearn.model_selection import train_test_split\n",
    "X_train, X_test, y_train, y_test = train_test_split(X, y, train_size = 0.9,test_size=0.1)"
   ]
  },
  {
   "cell_type": "markdown",
   "id": "12c17ae7",
   "metadata": {},
   "source": [
    "# Part 3: Logistic Regression¶\n"
   ]
  },
  {
   "cell_type": "code",
   "execution_count": 284,
   "id": "ddf40bc0",
   "metadata": {},
   "outputs": [
    {
     "name": "stderr",
     "output_type": "stream",
     "text": [
      "c:\\users\\abelf\\appdata\\local\\programs\\python\\python38\\lib\\site-packages\\sklearn\\utils\\validation.py:63: DataConversionWarning: A column-vector y was passed when a 1d array was expected. Please change the shape of y to (n_samples, ), for example using ravel().\n",
      "  return f(*args, **kwargs)\n"
     ]
    }
   ],
   "source": [
    "# i. Use sklearn to train a LogisticRegression model on the training set\n",
    "\n",
    "from sklearn.linear_model import LogisticRegression\n",
    "clf = LogisticRegression().fit(X_train, y_train)"
   ]
  },
  {
   "cell_type": "code",
   "execution_count": 285,
   "id": "ca4644b6",
   "metadata": {},
   "outputs": [
    {
     "data": {
      "text/plain": [
       "array(['virginica', 'versicolor', 'versicolor', 'setosa', 'versicolor',\n",
       "       'virginica', 'versicolor', 'versicolor', 'virginica', 'versicolor',\n",
       "       'setosa', 'setosa', 'virginica', 'setosa', 'setosa'], dtype=object)"
      ]
     },
     "execution_count": 285,
     "metadata": {},
     "output_type": "execute_result"
    }
   ],
   "source": [
    "clf.predict(X_test)"
   ]
  },
  {
   "cell_type": "markdown",
   "id": "03789e6e",
   "metadata": {},
   "source": [
    "#pick sample datapoints for each sample datapoint"
   ]
  },
  {
   "cell_type": "code",
   "execution_count": 286,
   "id": "0a69ec98",
   "metadata": {},
   "outputs": [
    {
     "data": {
      "text/plain": [
       "array([[4.66296172e-04, 2.98460676e-01, 7.01073027e-01],\n",
       "       [9.61890510e-03, 8.62861892e-01, 1.27519203e-01],\n",
       "       [4.24322820e-03, 6.75790936e-01, 3.19965836e-01],\n",
       "       [9.59634323e-01, 4.03655467e-02, 1.30702338e-07],\n",
       "       [2.50730601e-03, 8.51039513e-01, 1.46453181e-01],\n",
       "       [4.51372064e-06, 1.65935640e-02, 9.83401922e-01],\n",
       "       [2.06838086e-02, 9.25846758e-01, 5.34694337e-02],\n",
       "       [3.50483071e-03, 8.14148770e-01, 1.82346400e-01],\n",
       "       [1.23441913e-04, 1.32996018e-01, 8.66880540e-01],\n",
       "       [3.40592440e-03, 7.30206674e-01, 2.66387402e-01],\n",
       "       [9.75373002e-01, 2.46269629e-02, 3.53858810e-08],\n",
       "       [9.51714254e-01, 4.82856219e-02, 1.24366522e-07],\n",
       "       [5.45013709e-05, 3.77547051e-02, 9.62190794e-01],\n",
       "       [9.64949605e-01, 3.50503352e-02, 6.00069168e-08],\n",
       "       [9.73978691e-01, 2.60212776e-02, 3.13688643e-08]])"
      ]
     },
     "execution_count": 286,
     "metadata": {},
     "output_type": "execute_result"
    }
   ],
   "source": [
    "clf.predict_proba(X_test)"
   ]
  },
  {
   "cell_type": "code",
   "execution_count": 287,
   "id": "fde483d8",
   "metadata": {},
   "outputs": [
    {
     "name": "stdout",
     "output_type": "stream",
     "text": [
      "[[5 0 0]\n",
      " [0 6 1]\n",
      " [0 0 3]]\n",
      "Accuracy: 0.9333333333333333\n",
      "Test Accuracy:  0.9333333333333333\n",
      "Train Accuracy:  0.9851851851851852\n"
     ]
    }
   ],
   "source": [
    "#Import scikit-learn metrics module for accuracy calculation\n",
    "from sklearn import metrics\n",
    "from sklearn.metrics import classification_report,confusion_matrix\n",
    "print(confusion_matrix(y_test,clf.predict(X_test)))\n",
    "print(\"Accuracy:\",metrics.accuracy_score(y_test, clf.predict(X_test)))\n",
    "print(\"Test Accuracy: \" ,clf.score(X_test,y_test))\n",
    "print(\"Train Accuracy: \" ,clf.score(X_train,y_train))"
   ]
  },
  {
   "cell_type": "markdown",
   "id": "01c95cc3",
   "metadata": {},
   "source": [
    " iii. Report on the score for Logistic regression model, what does the score measure?\n",
    "The logistic regression is a classification algorithm, so it determines which class or in this case which species the flower belongs too.0.97 represents the accuracy of the algorithm. while .predict is the function that predicts the outcome. In my example, based on the examples I gave it, the logistic regression predicted that the species is setosa"
   ]
  },
  {
   "cell_type": "code",
   "execution_count": 288,
   "id": "60dc20d2",
   "metadata": {},
   "outputs": [
    {
     "data": {
      "text/plain": [
       "array([[-0.39465569,  0.99785582, -2.45226597, -1.0447273 ],\n",
       "       [ 0.57177374, -0.36997092, -0.30165136, -0.76176229],\n",
       "       [-0.17711805, -0.6278849 ,  2.75391734,  1.80648959]])"
      ]
     },
     "execution_count": 288,
     "metadata": {},
     "output_type": "execute_result"
    }
   ],
   "source": [
    "# iv. Extract the coefficents and intercepts for the boundary line(s)\n",
    "clf.coef_"
   ]
  },
  {
   "cell_type": "code",
   "execution_count": 289,
   "id": "9d294a3a",
   "metadata": {},
   "outputs": [
    {
     "data": {
      "text/plain": [
       "array([  9.25947063,   2.19472021, -11.45419083])"
      ]
     },
     "execution_count": 289,
     "metadata": {},
     "output_type": "execute_result"
    }
   ],
   "source": [
    "clf.intercept_"
   ]
  },
  {
   "cell_type": "markdown",
   "id": "6cec4d47",
   "metadata": {},
   "source": [
    "# Part 4: Support Vector Machine"
   ]
  },
  {
   "cell_type": "code",
   "execution_count": 290,
   "id": "1e47d211",
   "metadata": {},
   "outputs": [
    {
     "name": "stderr",
     "output_type": "stream",
     "text": [
      "c:\\users\\abelf\\appdata\\local\\programs\\python\\python38\\lib\\site-packages\\sklearn\\utils\\validation.py:63: DataConversionWarning: A column-vector y was passed when a 1d array was expected. Please change the shape of y to (n_samples, ), for example using ravel().\n",
      "  return f(*args, **kwargs)\n"
     ]
    },
    {
     "data": {
      "text/plain": [
       "SVC(probability=True)"
      ]
     },
     "execution_count": 290,
     "metadata": {},
     "output_type": "execute_result"
    }
   ],
   "source": [
    "from sklearn.svm import SVC\n",
    "from sklearn.pipeline import make_pipeline\n",
    "from sklearn.preprocessing import StandardScaler\n",
    "#Linear Kernel is used when the data is Linearly separable, that is, it can be separated using a single Line. It is one of the most common kernels to be used. It is mostly used when there are a Large number of Features in a particular Data Set\n",
    "#Training a SVM with a Linear Kernel is Faster than with any other Kernel\n",
    "clf_svm = SVC(probability = True)\n",
    "clf_svm.fit(X_train, y_train)"
   ]
  },
  {
   "cell_type": "code",
   "execution_count": 291,
   "id": "2d3497eb",
   "metadata": {},
   "outputs": [
    {
     "data": {
      "text/plain": [
       "array(['virginica', 'versicolor', 'versicolor', 'setosa', 'versicolor',\n",
       "       'virginica', 'versicolor', 'versicolor', 'virginica', 'versicolor',\n",
       "       'setosa', 'setosa', 'virginica', 'setosa', 'setosa'], dtype=object)"
      ]
     },
     "execution_count": 291,
     "metadata": {},
     "output_type": "execute_result"
    }
   ],
   "source": [
    "# i. Use sklearn to train a Support Vector Classifier on the training set\n",
    "predictions = clf_svm.predict(X_test)\n",
    "predictions"
   ]
  },
  {
   "cell_type": "code",
   "execution_count": 292,
   "id": "e3364a9f",
   "metadata": {},
   "outputs": [],
   "source": [
    "# ii. For a sample datapoint, predict the probabilities for each possible class\n",
    "predictions_proba = clf_svm.predict_proba(X_test)"
   ]
  },
  {
   "cell_type": "code",
   "execution_count": 293,
   "id": "23434c26",
   "metadata": {},
   "outputs": [
    {
     "name": "stdout",
     "output_type": "stream",
     "text": [
      "[[5 0 0]\n",
      " [0 6 1]\n",
      " [0 0 3]]\n",
      "Accuracy: 0.9333333333333333\n",
      "Test Accuracy:  0.9333333333333333\n",
      "Train Accuracy:  0.9777777777777777\n"
     ]
    }
   ],
   "source": [
    "#Import scikit-learn metrics module for accuracy calculation\n",
    "from sklearn import metrics\n",
    "from sklearn.metrics import classification_report,confusion_matrix\n",
    "print(confusion_matrix(y_test,predictions))\n",
    "print(\"Accuracy:\",metrics.accuracy_score(y_test, predictions))\n",
    "print(\"Test Accuracy: \" ,clf_svm.score(X_test,y_test))\n",
    "print(\"Train Accuracy: \" ,clf_svm.score(X_train,y_train))"
   ]
  },
  {
   "cell_type": "markdown",
   "id": "2aa63048",
   "metadata": {},
   "source": [
    "#iii. Report on the score for the SVM, what does the score measure?# iii. Report on the score for the SVM, what does the score measure?\n",
    "It can solve linear and non-linear problems and work well for many practical problems. The idea of SVM is simple: The algorithm creates a line or a hyperplane which separates the data into classes.So in this case it put the datapoints into one separate class, which is setosa"
   ]
  },
  {
   "cell_type": "markdown",
   "id": "c0ebfdf6",
   "metadata": {},
   "source": [
    "# Part 5: Neural Network"
   ]
  },
  {
   "cell_type": "markdown",
   "id": "b3b998d4",
   "metadata": {},
   "source": [
    " iv: Experiment with different options for the neural network, report on your best configuration (the highest score I was able to achieve was 0.8666)\n"
   ]
  },
  {
   "cell_type": "code",
   "execution_count": 320,
   "id": "ec9e1611",
   "metadata": {
    "scrolled": true
   },
   "outputs": [
    {
     "name": "stderr",
     "output_type": "stream",
     "text": [
      "c:\\users\\abelf\\appdata\\local\\programs\\python\\python38\\lib\\site-packages\\sklearn\\utils\\validation.py:63: DataConversionWarning: A column-vector y was passed when a 1d array was expected. Please change the shape of y to (n_samples, ), for example using ravel().\n",
      "  return f(*args, **kwargs)\n",
      "c:\\users\\abelf\\appdata\\local\\programs\\python\\python38\\lib\\site-packages\\sklearn\\utils\\validation.py:63: DataConversionWarning: A column-vector y was passed when a 1d array was expected. Please change the shape of y to (n_samples, ), for example using ravel().\n",
      "  return f(*args, **kwargs)\n"
     ]
    },
    {
     "name": "stdout",
     "output_type": "stream",
     "text": [
      "Prediction 0 : ['virginica' 'virginica' 'virginica' 'virginica' 'virginica' 'virginica'\n",
      " 'virginica' 'virginica' 'virginica' 'virginica' 'virginica' 'virginica'\n",
      " 'virginica' 'virginica' 'virginica']\n",
      "Prediction Score 0: 0.2\n",
      "==================================================================\n",
      "Prediction 1 : ['setosa' 'setosa' 'setosa' 'setosa' 'setosa' 'setosa' 'setosa' 'setosa'\n",
      " 'setosa' 'setosa' 'setosa' 'setosa' 'setosa' 'setosa' 'setosa']\n",
      "Prediction Score 1: 0.3333333333333333\n",
      "==================================================================\n"
     ]
    },
    {
     "name": "stderr",
     "output_type": "stream",
     "text": [
      "c:\\users\\abelf\\appdata\\local\\programs\\python\\python38\\lib\\site-packages\\sklearn\\utils\\validation.py:63: DataConversionWarning: A column-vector y was passed when a 1d array was expected. Please change the shape of y to (n_samples, ), for example using ravel().\n",
      "  return f(*args, **kwargs)\n"
     ]
    },
    {
     "name": "stdout",
     "output_type": "stream",
     "text": [
      "Prediction 2 : ['versicolor' 'versicolor' 'versicolor' 'versicolor' 'versicolor'\n",
      " 'versicolor' 'versicolor' 'versicolor' 'versicolor' 'versicolor'\n",
      " 'versicolor' 'versicolor' 'versicolor' 'versicolor' 'versicolor']\n",
      "Prediction Score 2: 0.4666666666666667\n",
      "==================================================================\n"
     ]
    },
    {
     "name": "stderr",
     "output_type": "stream",
     "text": [
      "c:\\users\\abelf\\appdata\\local\\programs\\python\\python38\\lib\\site-packages\\sklearn\\neural_network\\_multilayer_perceptron.py:614: ConvergenceWarning: Stochastic Optimizer: Maximum iterations (600) reached and the optimization hasn't converged yet.\n",
      "  warnings.warn(\n"
     ]
    }
   ],
   "source": [
    "# Experiment with different options for the neural network\n",
    "# i. Use sklearn to train a Neural Network (MLP Classifier) on the training set\n",
    "from sklearn.neural_network import MLPClassifier\n",
    "solver = ['lbfgs', 'sgd', 'adam']\n",
    "alpha = [1e-5,1e-4,1e-3]\n",
    "for i in range(len(solver)):\n",
    "     clf_mlp = MLPClassifier(solver=solver[i], alpha=alpha[i],hidden_layer_sizes=(4, 2), max_iter = 600,random_state=1)\n",
    "     clf_mlp.fit(X_train, y_train)\n",
    "     print(\"Prediction {} :\".format(i),clf_mlp.predict(X_test))\n",
    "     print(\"Prediction Score {}:\".format(i),clf_mlp.score(X_test, y_test))\n",
    "     print(\"==================================================================\")"
   ]
  },
  {
   "cell_type": "code",
   "execution_count": 321,
   "id": "566fb464",
   "metadata": {},
   "outputs": [
    {
     "data": {
      "text/plain": [
       "array(['versicolor'], dtype='<U10')"
      ]
     },
     "execution_count": 321,
     "metadata": {},
     "output_type": "execute_result"
    }
   ],
   "source": [
    "# Experiment with different options for the neural network\n",
    "clf_mlp.predict([[5.3,0.4,1.1,3]])"
   ]
  },
  {
   "cell_type": "code",
   "execution_count": 295,
   "id": "0f77c7f9",
   "metadata": {},
   "outputs": [
    {
     "data": {
      "text/plain": [
       "array([[0.32830457, 0.22391512, 0.44778031],\n",
       "       [0.32830457, 0.22391512, 0.44778031],\n",
       "       [0.32830457, 0.22391512, 0.44778031],\n",
       "       [0.84768446, 0.07657605, 0.0757395 ],\n",
       "       [0.32830457, 0.22391512, 0.44778031],\n",
       "       [0.32830457, 0.22391512, 0.44778031],\n",
       "       [0.32830457, 0.22391512, 0.44778031],\n",
       "       [0.32830457, 0.22391512, 0.44778031],\n",
       "       [0.32830457, 0.22391512, 0.44778031],\n",
       "       [0.32830457, 0.22391512, 0.44778031],\n",
       "       [0.84896911, 0.07604211, 0.07498878],\n",
       "       [0.74177236, 0.11727316, 0.14095447],\n",
       "       [0.32830457, 0.22391512, 0.44778031],\n",
       "       [0.84896911, 0.07604211, 0.07498878],\n",
       "       [0.84896911, 0.07604211, 0.07498878]])"
      ]
     },
     "execution_count": 295,
     "metadata": {},
     "output_type": "execute_result"
    }
   ],
   "source": [
    "clf_mlp.predict_proba(X_test)"
   ]
  },
  {
   "cell_type": "code",
   "execution_count": 296,
   "id": "a300e457",
   "metadata": {},
   "outputs": [
    {
     "data": {
      "text/plain": [
       "[array([[-2.43030234e-07,  1.40831374e-01, -3.29284822e-01,\n",
       "         -2.82258449e-01, -1.41673050e-01],\n",
       "        [-2.06886148e-01, -6.14354775e-01, -2.70159875e-03,\n",
       "         -1.38472156e-01,  1.51784660e-14],\n",
       "        [-1.05042347e-07,  3.83879304e-01, -8.15574651e-02,\n",
       "          4.41663793e-01, -2.91904704e-01],\n",
       "        [ 5.62102807e-03,  1.68686475e-01, -4.46582947e-12,\n",
       "         -5.40709375e-01, -8.75948757e-02]]),\n",
       " array([[ 2.58212688e-01, -2.89066720e-01],\n",
       "        [-3.61100023e-01, -7.69914404e-01],\n",
       "        [ 2.33803955e-01, -2.68815873e-01],\n",
       "        [-1.72557614e-06,  6.78489570e-01],\n",
       "        [ 1.67428413e-14,  2.33040168e-02]]),\n",
       " array([[ 0.26020378, -0.54069681,  0.1221341 ],\n",
       "        [ 1.68559512, -0.34892266, -1.05745925]])]"
      ]
     },
     "execution_count": 296,
     "metadata": {},
     "output_type": "execute_result"
    }
   ],
   "source": [
    "[coef for coef in clf_mlp.coefs_]"
   ]
  },
  {
   "cell_type": "code",
   "execution_count": 298,
   "id": "30250e7a",
   "metadata": {},
   "outputs": [
    {
     "data": {
      "text/plain": [
       "0.5333333333333333"
      ]
     },
     "execution_count": 298,
     "metadata": {},
     "output_type": "execute_result"
    }
   ],
   "source": [
    "clf_mlp.score(X_test, y_test)"
   ]
  },
  {
   "cell_type": "code",
   "execution_count": 299,
   "id": "cb2941e3",
   "metadata": {},
   "outputs": [
    {
     "name": "stdout",
     "output_type": "stream",
     "text": [
      "[[5 0 0]\n",
      " [0 0 7]\n",
      " [0 0 3]]\n",
      "Accuracy: 0.5333333333333333\n"
     ]
    },
    {
     "data": {
      "text/plain": [
       "0.5333333333333333"
      ]
     },
     "execution_count": 299,
     "metadata": {},
     "output_type": "execute_result"
    }
   ],
   "source": [
    "#Import scikit-learn metrics module for accuracy calculation\n",
    "from sklearn import metrics\n",
    "from sklearn.metrics import classification_report,confusion_matrix\n",
    "print(confusion_matrix(y_test,clf_mlp.predict(X_test)))\n",
    "print(\"Accuracy:\",metrics.accuracy_score(y_test,clf_mlp.predict(X_test)))"
   ]
  },
  {
   "cell_type": "markdown",
   "id": "fca1319e",
   "metadata": {},
   "source": [
    "# Part 6: K-Nearest Neighbors"
   ]
  },
  {
   "cell_type": "code",
   "execution_count": 305,
   "id": "f59a58b5",
   "metadata": {},
   "outputs": [
    {
     "name": "stderr",
     "output_type": "stream",
     "text": [
      "c:\\users\\abelf\\appdata\\local\\programs\\python\\python38\\lib\\site-packages\\sklearn\\neighbors\\_classification.py:179: DataConversionWarning: A column-vector y was passed when a 1d array was expected. Please change the shape of y to (n_samples,), for example using ravel().\n",
      "  return self._fit(X, y)\n"
     ]
    },
    {
     "data": {
      "text/plain": [
       "KNeighborsClassifier(n_neighbors=9)"
      ]
     },
     "execution_count": 305,
     "metadata": {},
     "output_type": "execute_result"
    }
   ],
   "source": [
    "from sklearn.neighbors import KNeighborsClassifier\n",
    "neigh = KNeighborsClassifier(n_neighbors=9)\n",
    "neigh.fit(X_train, y_train)"
   ]
  },
  {
   "cell_type": "code",
   "execution_count": 306,
   "id": "1c3a07a1",
   "metadata": {},
   "outputs": [
    {
     "name": "stdout",
     "output_type": "stream",
     "text": [
      "The accuracy score of the Training model is 0.9777777777777777\n",
      "The accuracy score of the Test model is 0.9333333333333333\n"
     ]
    }
   ],
   "source": [
    "# iii. Report on the score for the KNN, what does the score measure?\n",
    "y_train_KNN_predict =neigh.predict(X_train)\n",
    "y_test_KNN_predict = neigh.predict(X_test)\n",
    "\n",
    "KNN_train_score = neigh.score(X_train,y_train)\n",
    "KNN_test_score = neigh.score(X_test,y_test)\n",
    "print('The accuracy score of the Training model is',KNN_train_score)\n",
    "print('The accuracy score of the Test model is',KNN_test_score)"
   ]
  },
  {
   "cell_type": "markdown",
   "id": "e3321f43",
   "metadata": {},
   "source": [
    "There is 93% chance that the knn model can assign unknown class point to a certain class.\n",
    "The Training accuracy rises as the model complexity increases which is determined by the value of K. Larger K value leads to smoother decision boundary (less complex model). Smaller K leads may lead to overfitting). \n",
    "\n",
    "Testing accuracy assess if the models overfit or underfit. We get the maximum testing accuracy when the model has right level of complexity, in our case we can see that for a K value of 3 to 19 our model accuracy is 96.6%."
   ]
  },
  {
   "cell_type": "code",
   "execution_count": 302,
   "id": "87452272",
   "metadata": {},
   "outputs": [
    {
     "data": {
      "text/plain": [
       "array([[0., 0., 1.],\n",
       "       [0., 1., 0.],\n",
       "       [0., 1., 0.],\n",
       "       [1., 0., 0.],\n",
       "       [0., 1., 0.],\n",
       "       [0., 0., 1.],\n",
       "       [0., 1., 0.],\n",
       "       [0., 1., 0.],\n",
       "       [0., 0., 1.],\n",
       "       [0., 1., 0.],\n",
       "       [1., 0., 0.],\n",
       "       [1., 0., 0.],\n",
       "       [0., 0., 1.],\n",
       "       [1., 0., 0.],\n",
       "       [1., 0., 0.]])"
      ]
     },
     "execution_count": 302,
     "metadata": {},
     "output_type": "execute_result"
    }
   ],
   "source": [
    "# ii. For a sample datapoint, predict the probabilities for each possible class\n",
    "neigh.predict_proba(X_test)"
   ]
  },
  {
   "cell_type": "code",
   "execution_count": 304,
   "id": "88ba3781",
   "metadata": {},
   "outputs": [
    {
     "name": "stdout",
     "output_type": "stream",
     "text": [
      "              precision    recall  f1-score   support\n",
      "\n",
      "      setosa       1.00      1.00      1.00        45\n",
      "  versicolor       0.95      0.95      0.95        43\n",
      "   virginica       0.96      0.96      0.96        47\n",
      "\n",
      "    accuracy                           0.97       135\n",
      "   macro avg       0.97      0.97      0.97       135\n",
      "weighted avg       0.97      0.97      0.97       135\n",
      "\n"
     ]
    }
   ],
   "source": [
    "print(classification_report(y_train,y_train_KNN_predict))"
   ]
  },
  {
   "cell_type": "markdown",
   "id": "f818c1fa",
   "metadata": {},
   "source": [
    " # Part 7: Conclusions and takeaways\n",
    "In your own words describe the results of the notebook. Which model(s) performed the best on the dataset? Why do you think that is? Did anything surprise you about the exercise?"
   ]
  },
  {
   "cell_type": "code",
   "execution_count": 309,
   "id": "d6597155",
   "metadata": {},
   "outputs": [
    {
     "name": "stdout",
     "output_type": "stream",
     "text": [
      "logistic regression score 0.9333333333333333\n",
      "Support Vector Machine score 0.9333333333333333\n",
      "Neural Network score 0.5333333333333333\n",
      "KNN score 0.9333333333333333\n"
     ]
    }
   ],
   "source": [
    "print(\"logistic regression score\", clf.score(X_test,y_test))\n",
    "print(\"Support Vector Machine score\", clf_svm.score(X_test,y_test))\n",
    "print(\"Neural Network score\", clf_mlp.score(X_test,y_test))\n",
    "print(\"KNN score\", KNN_test_score)"
   ]
  },
  {
   "cell_type": "markdown",
   "id": "16a1f543",
   "metadata": {},
   "source": [
    "Logistic Regression, SVM, and KNN performed equally while mlp classfier performed the lowest. A neural network model for binary classification can be worse than a logistic regression model because neural networks are more difficult to train and are more prone to overfitting than logistic regression, which explains why we are getting a lower score for neural net."
   ]
  },
  {
   "cell_type": "code",
   "execution_count": null,
   "id": "63fd38d3",
   "metadata": {},
   "outputs": [],
   "source": []
  },
  {
   "cell_type": "code",
   "execution_count": null,
   "id": "d97d5c51",
   "metadata": {},
   "outputs": [],
   "source": []
  }
 ],
 "metadata": {
  "kernelspec": {
   "display_name": "Python 3",
   "language": "python",
   "name": "python3"
  },
  "language_info": {
   "codemirror_mode": {
    "name": "ipython",
    "version": 3
   },
   "file_extension": ".py",
   "mimetype": "text/x-python",
   "name": "python",
   "nbconvert_exporter": "python",
   "pygments_lexer": "ipython3",
   "version": "3.8.0"
  },
  "toc": {
   "base_numbering": 1,
   "nav_menu": {},
   "number_sections": true,
   "sideBar": true,
   "skip_h1_title": false,
   "title_cell": "Table of Contents",
   "title_sidebar": "Contents",
   "toc_cell": false,
   "toc_position": {},
   "toc_section_display": true,
   "toc_window_display": false
  }
 },
 "nbformat": 4,
 "nbformat_minor": 5
}
