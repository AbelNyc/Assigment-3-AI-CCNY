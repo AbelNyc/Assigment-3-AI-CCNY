{
 "cells": [
  {
   "cell_type": "code",
   "execution_count": 3,
   "id": "34bfced9",
   "metadata": {},
   "outputs": [],
   "source": [
    "import requests \n",
    "import pandas as pd\n",
    "import section"
   ]
  },
  {
   "cell_type": "markdown",
   "id": "887d6022",
   "metadata": {},
   "source": [
    "# Part 1. Loading the dataset"
   ]
  },
  {
   "cell_type": "code",
   "execution_count": 4,
   "id": "e157ee1e",
   "metadata": {},
   "outputs": [],
   "source": [
    "# Using pandas load the dataset (load remotely, not locally)\n",
    "file = pd.read_csv(\"https://raw.githubusercontent.com/profmcnich/example_notebook/main/science_data_large.csv\")"
   ]
  },
  {
   "cell_type": "code",
   "execution_count": 5,
   "id": "84236c4f",
   "metadata": {},
   "outputs": [
    {
     "data": {
      "text/html": [
       "<div>\n",
       "<style scoped>\n",
       "    .dataframe tbody tr th:only-of-type {\n",
       "        vertical-align: middle;\n",
       "    }\n",
       "\n",
       "    .dataframe tbody tr th {\n",
       "        vertical-align: top;\n",
       "    }\n",
       "\n",
       "    .dataframe thead th {\n",
       "        text-align: right;\n",
       "    }\n",
       "</style>\n",
       "<table border=\"1\" class=\"dataframe\">\n",
       "  <thead>\n",
       "    <tr style=\"text-align: right;\">\n",
       "      <th></th>\n",
       "      <th>Temperature °C</th>\n",
       "      <th>Mols KCL</th>\n",
       "      <th>Size nm^3</th>\n",
       "    </tr>\n",
       "  </thead>\n",
       "  <tbody>\n",
       "    <tr>\n",
       "      <th>0</th>\n",
       "      <td>469</td>\n",
       "      <td>647</td>\n",
       "      <td>6.244743e+05</td>\n",
       "    </tr>\n",
       "    <tr>\n",
       "      <th>1</th>\n",
       "      <td>403</td>\n",
       "      <td>694</td>\n",
       "      <td>5.779610e+05</td>\n",
       "    </tr>\n",
       "    <tr>\n",
       "      <th>2</th>\n",
       "      <td>302</td>\n",
       "      <td>975</td>\n",
       "      <td>6.196847e+05</td>\n",
       "    </tr>\n",
       "    <tr>\n",
       "      <th>3</th>\n",
       "      <td>779</td>\n",
       "      <td>916</td>\n",
       "      <td>1.460449e+06</td>\n",
       "    </tr>\n",
       "    <tr>\n",
       "      <th>4</th>\n",
       "      <td>901</td>\n",
       "      <td>18</td>\n",
       "      <td>4.325726e+04</td>\n",
       "    </tr>\n",
       "    <tr>\n",
       "      <th>5</th>\n",
       "      <td>545</td>\n",
       "      <td>637</td>\n",
       "      <td>7.124634e+05</td>\n",
       "    </tr>\n",
       "    <tr>\n",
       "      <th>6</th>\n",
       "      <td>660</td>\n",
       "      <td>519</td>\n",
       "      <td>7.006960e+05</td>\n",
       "    </tr>\n",
       "    <tr>\n",
       "      <th>7</th>\n",
       "      <td>143</td>\n",
       "      <td>869</td>\n",
       "      <td>2.718260e+05</td>\n",
       "    </tr>\n",
       "    <tr>\n",
       "      <th>8</th>\n",
       "      <td>89</td>\n",
       "      <td>461</td>\n",
       "      <td>8.919803e+04</td>\n",
       "    </tr>\n",
       "    <tr>\n",
       "      <th>9</th>\n",
       "      <td>294</td>\n",
       "      <td>776</td>\n",
       "      <td>4.770210e+05</td>\n",
       "    </tr>\n",
       "    <tr>\n",
       "      <th>10</th>\n",
       "      <td>991</td>\n",
       "      <td>117</td>\n",
       "      <td>2.441771e+05</td>\n",
       "    </tr>\n",
       "    <tr>\n",
       "      <th>11</th>\n",
       "      <td>307</td>\n",
       "      <td>781</td>\n",
       "      <td>5.006455e+05</td>\n",
       "    </tr>\n",
       "    <tr>\n",
       "      <th>12</th>\n",
       "      <td>206</td>\n",
       "      <td>70</td>\n",
       "      <td>3.145200e+04</td>\n",
       "    </tr>\n",
       "    <tr>\n",
       "      <th>13</th>\n",
       "      <td>437</td>\n",
       "      <td>599</td>\n",
       "      <td>5.390215e+05</td>\n",
       "    </tr>\n",
       "    <tr>\n",
       "      <th>14</th>\n",
       "      <td>566</td>\n",
       "      <td>75</td>\n",
       "      <td>9.185271e+04</td>\n",
       "    </tr>\n",
       "  </tbody>\n",
       "</table>\n",
       "</div>"
      ],
      "text/plain": [
       "    Temperature °C  Mols KCL     Size nm^3\n",
       "0              469       647  6.244743e+05\n",
       "1              403       694  5.779610e+05\n",
       "2              302       975  6.196847e+05\n",
       "3              779       916  1.460449e+06\n",
       "4              901        18  4.325726e+04\n",
       "5              545       637  7.124634e+05\n",
       "6              660       519  7.006960e+05\n",
       "7              143       869  2.718260e+05\n",
       "8               89       461  8.919803e+04\n",
       "9              294       776  4.770210e+05\n",
       "10             991       117  2.441771e+05\n",
       "11             307       781  5.006455e+05\n",
       "12             206        70  3.145200e+04\n",
       "13             437       599  5.390215e+05\n",
       "14             566        75  9.185271e+04"
      ]
     },
     "execution_count": 5,
     "metadata": {},
     "output_type": "execute_result"
    }
   ],
   "source": [
    "# Output the first 15 rows of the data\n",
    "file.head(15)"
   ]
  },
  {
   "cell_type": "code",
   "execution_count": 6,
   "id": "51b4d8fd",
   "metadata": {},
   "outputs": [
    {
     "name": "stdout",
     "output_type": "stream",
     "text": [
      "<class 'pandas.core.frame.DataFrame'>\n",
      "RangeIndex: 1000 entries, 0 to 999\n",
      "Data columns (total 3 columns):\n",
      " #   Column          Non-Null Count  Dtype  \n",
      "---  ------          --------------  -----  \n",
      " 0   Temperature °C  1000 non-null   int64  \n",
      " 1   Mols KCL        1000 non-null   int64  \n",
      " 2   Size nm^3       1000 non-null   float64\n",
      "dtypes: float64(1), int64(2)\n",
      "memory usage: 23.6 KB\n"
     ]
    }
   ],
   "source": [
    "# Display a summary of the table information (number of datapoints, etc.)\n",
    "file.info()"
   ]
  },
  {
   "cell_type": "code",
   "execution_count": 7,
   "id": "baea8527",
   "metadata": {},
   "outputs": [
    {
     "data": {
      "text/html": [
       "<div>\n",
       "<style scoped>\n",
       "    .dataframe tbody tr th:only-of-type {\n",
       "        vertical-align: middle;\n",
       "    }\n",
       "\n",
       "    .dataframe tbody tr th {\n",
       "        vertical-align: top;\n",
       "    }\n",
       "\n",
       "    .dataframe thead th {\n",
       "        text-align: right;\n",
       "    }\n",
       "</style>\n",
       "<table border=\"1\" class=\"dataframe\">\n",
       "  <thead>\n",
       "    <tr style=\"text-align: right;\">\n",
       "      <th></th>\n",
       "      <th>Temperature °C</th>\n",
       "      <th>Mols KCL</th>\n",
       "      <th>Size nm^3</th>\n",
       "    </tr>\n",
       "  </thead>\n",
       "  <tbody>\n",
       "    <tr>\n",
       "      <th>count</th>\n",
       "      <td>1000.000000</td>\n",
       "      <td>1000.000000</td>\n",
       "      <td>1.000000e+03</td>\n",
       "    </tr>\n",
       "    <tr>\n",
       "      <th>mean</th>\n",
       "      <td>500.500000</td>\n",
       "      <td>471.530000</td>\n",
       "      <td>5.086111e+05</td>\n",
       "    </tr>\n",
       "    <tr>\n",
       "      <th>std</th>\n",
       "      <td>288.819436</td>\n",
       "      <td>288.482872</td>\n",
       "      <td>4.474838e+05</td>\n",
       "    </tr>\n",
       "    <tr>\n",
       "      <th>min</th>\n",
       "      <td>1.000000</td>\n",
       "      <td>1.000000</td>\n",
       "      <td>1.611429e+01</td>\n",
       "    </tr>\n",
       "    <tr>\n",
       "      <th>25%</th>\n",
       "      <td>250.750000</td>\n",
       "      <td>226.750000</td>\n",
       "      <td>1.298267e+05</td>\n",
       "    </tr>\n",
       "    <tr>\n",
       "      <th>50%</th>\n",
       "      <td>500.500000</td>\n",
       "      <td>459.500000</td>\n",
       "      <td>3.827182e+05</td>\n",
       "    </tr>\n",
       "    <tr>\n",
       "      <th>75%</th>\n",
       "      <td>750.250000</td>\n",
       "      <td>710.250000</td>\n",
       "      <td>7.603211e+05</td>\n",
       "    </tr>\n",
       "    <tr>\n",
       "      <th>max</th>\n",
       "      <td>1000.000000</td>\n",
       "      <td>1000.000000</td>\n",
       "      <td>1.972127e+06</td>\n",
       "    </tr>\n",
       "  </tbody>\n",
       "</table>\n",
       "</div>"
      ],
      "text/plain": [
       "       Temperature °C     Mols KCL     Size nm^3\n",
       "count     1000.000000  1000.000000  1.000000e+03\n",
       "mean       500.500000   471.530000  5.086111e+05\n",
       "std        288.819436   288.482872  4.474838e+05\n",
       "min          1.000000     1.000000  1.611429e+01\n",
       "25%        250.750000   226.750000  1.298267e+05\n",
       "50%        500.500000   459.500000  3.827182e+05\n",
       "75%        750.250000   710.250000  7.603211e+05\n",
       "max       1000.000000  1000.000000  1.972127e+06"
      ]
     },
     "execution_count": 7,
     "metadata": {},
     "output_type": "execute_result"
    }
   ],
   "source": [
    "# Display a summary of the table information (number of datapoints, etc.)\n",
    "file.describe()"
   ]
  },
  {
   "cell_type": "markdown",
   "id": "22b58a94",
   "metadata": {},
   "source": [
    "# Part 2. Splitting the dataset¶\n"
   ]
  },
  {
   "cell_type": "code",
   "execution_count": 8,
   "id": "c9d9adf6",
   "metadata": {},
   "outputs": [],
   "source": [
    " # Take the pandas dataset and split it into our features (X) and label (y)\n",
    "X,Y = file[['Temperature °C','Mols KCL']], file[['Size nm^3']]"
   ]
  },
  {
   "cell_type": "code",
   "execution_count": 14,
   "id": "4b960204",
   "metadata": {},
   "outputs": [
    {
     "data": {
      "text/html": [
       "<div>\n",
       "<style scoped>\n",
       "    .dataframe tbody tr th:only-of-type {\n",
       "        vertical-align: middle;\n",
       "    }\n",
       "\n",
       "    .dataframe tbody tr th {\n",
       "        vertical-align: top;\n",
       "    }\n",
       "\n",
       "    .dataframe thead th {\n",
       "        text-align: right;\n",
       "    }\n",
       "</style>\n",
       "<table border=\"1\" class=\"dataframe\">\n",
       "  <thead>\n",
       "    <tr style=\"text-align: right;\">\n",
       "      <th></th>\n",
       "      <th>Size nm^3</th>\n",
       "    </tr>\n",
       "  </thead>\n",
       "  <tbody>\n",
       "    <tr>\n",
       "      <th>0</th>\n",
       "      <td>6.244743e+05</td>\n",
       "    </tr>\n",
       "    <tr>\n",
       "      <th>1</th>\n",
       "      <td>5.779610e+05</td>\n",
       "    </tr>\n",
       "    <tr>\n",
       "      <th>2</th>\n",
       "      <td>6.196847e+05</td>\n",
       "    </tr>\n",
       "    <tr>\n",
       "      <th>3</th>\n",
       "      <td>1.460449e+06</td>\n",
       "    </tr>\n",
       "    <tr>\n",
       "      <th>4</th>\n",
       "      <td>4.325726e+04</td>\n",
       "    </tr>\n",
       "    <tr>\n",
       "      <th>...</th>\n",
       "      <td>...</td>\n",
       "    </tr>\n",
       "    <tr>\n",
       "      <th>995</th>\n",
       "      <td>1.545661e+06</td>\n",
       "    </tr>\n",
       "    <tr>\n",
       "      <th>996</th>\n",
       "      <td>6.737041e+05</td>\n",
       "    </tr>\n",
       "    <tr>\n",
       "      <th>997</th>\n",
       "      <td>3.477543e+05</td>\n",
       "    </tr>\n",
       "    <tr>\n",
       "      <th>998</th>\n",
       "      <td>8.684794e+05</td>\n",
       "    </tr>\n",
       "    <tr>\n",
       "      <th>999</th>\n",
       "      <td>8.476413e+05</td>\n",
       "    </tr>\n",
       "  </tbody>\n",
       "</table>\n",
       "<p>1000 rows × 1 columns</p>\n",
       "</div>"
      ],
      "text/plain": [
       "        Size nm^3\n",
       "0    6.244743e+05\n",
       "1    5.779610e+05\n",
       "2    6.196847e+05\n",
       "3    1.460449e+06\n",
       "4    4.325726e+04\n",
       "..            ...\n",
       "995  1.545661e+06\n",
       "996  6.737041e+05\n",
       "997  3.477543e+05\n",
       "998  8.684794e+05\n",
       "999  8.476413e+05\n",
       "\n",
       "[1000 rows x 1 columns]"
      ]
     },
     "execution_count": 14,
     "metadata": {},
     "output_type": "execute_result"
    }
   ],
   "source": [
    "Y"
   ]
  },
  {
   "cell_type": "code",
   "execution_count": 9,
   "id": "a95e06bb",
   "metadata": {},
   "outputs": [],
   "source": [
    "# Use sklearn to split the features and labels into a training/test set. (90% train, 10% test)\n",
    "from sklearn.model_selection import train_test_split\n",
    "X_train, X_test, y_train, y_test = train_test_split(X, Y, test_size=0.10, random_state=42)"
   ]
  },
  {
   "cell_type": "markdown",
   "id": "ac1a232f",
   "metadata": {},
   "source": [
    "# Part 3. Perform a Linear Regression"
   ]
  },
  {
   "cell_type": "code",
   "execution_count": 13,
   "id": "2723a1ea",
   "metadata": {},
   "outputs": [],
   "source": [
    "# Use sklearn to train a model on the training set\n",
    "from sklearn.linear_model import LinearRegression"
   ]
  },
  {
   "cell_type": "code",
   "execution_count": 14,
   "id": "7a3b7ae6",
   "metadata": {},
   "outputs": [],
   "source": [
    "regression = LinearRegression().fit(X,Y)"
   ]
  },
  {
   "cell_type": "code",
   "execution_count": 55,
   "id": "d767c1eb",
   "metadata": {},
   "outputs": [
    {
     "data": {
      "text/plain": [
       "0.8567685950516806"
      ]
     },
     "execution_count": 55,
     "metadata": {},
     "output_type": "execute_result"
    }
   ],
   "source": [
    "regression.score(X_test, y_test)"
   ]
  },
  {
   "cell_type": "markdown",
   "id": "6417a3a8",
   "metadata": {},
   "source": [
    "#Report on the score for that model, in your own words (markdown, not code) explain what the score means\n",
    "\n",
    "Our regression has a high score, which tells that there is a high correlation between our target which is the size. The relathionship is directly proportional which means as the temperature and Mols increase the size will increase as well. It represents the The coefficient of determination. It does a good job of fitting the data and it does a good job of explaining changes in the dependent variables.\n",
    "It basically shows that the difference between the predicted values and observed values is low, however we need to make sure its not overfitting meaning its not biased. We may need a larger dataset to show to analyze the correlation between the dependent and independent variable"
   ]
  },
  {
   "cell_type": "code",
   "execution_count": 16,
   "id": "437e252f",
   "metadata": {},
   "outputs": [
    {
     "data": {
      "text/plain": [
       "array([[ 875.90992708, 1031.59502452]])"
      ]
     },
     "execution_count": 16,
     "metadata": {},
     "output_type": "execute_result"
    }
   ],
   "source": [
    "#Extract the coefficents and intercept from the model and write an equation for your h(x) using LaTeX\n",
    "regression.coef_"
   ]
  },
  {
   "cell_type": "code",
   "execution_count": 17,
   "id": "df911704",
   "metadata": {},
   "outputs": [
    {
     "data": {
      "text/plain": [
       "(array([[ 875.90992708, 1031.59502452]]), array([-416209.8173862]))"
      ]
     },
     "execution_count": 17,
     "metadata": {},
     "output_type": "execute_result"
    }
   ],
   "source": [
    "regression.coef_, regression.intercept_"
   ]
  },
  {
   "cell_type": "markdown",
   "id": "8686c2d9",
   "metadata": {},
   "source": [
    "#latex equation \n",
    " \n",
    "\\begin{equation} Y_i = {-416209 + 875.90992708*x}\\end{equation}"
   ]
  },
  {
   "cell_type": "code",
   "execution_count": 21,
   "id": "73dbd817",
   "metadata": {},
   "outputs": [],
   "source": [
    "#Create a sample datapoint and predict the output of that sample with the trained model\n",
    "datapoint = {\n",
    "    'Temperature °C': [800,700],\n",
    "    'Mols KCL': [800,650]\n",
    "}\n",
    "data_df = pd.DataFrame(datapoint)"
   ]
  },
  {
   "cell_type": "code",
   "execution_count": 25,
   "id": "d6ec728c",
   "metadata": {},
   "outputs": [],
   "source": [
    "size_pred = regression.predict(data_df)"
   ]
  },
  {
   "cell_type": "code",
   "execution_count": 26,
   "id": "87077a52",
   "metadata": {},
   "outputs": [
    {
     "name": "stdout",
     "output_type": "stream",
     "text": [
      "[[1109794.14389322]\n",
      " [ 867463.89750715]]\n"
     ]
    }
   ],
   "source": [
    "print(size_pred)"
   ]
  },
  {
   "cell_type": "markdown",
   "id": "256c0fe4",
   "metadata": {},
   "source": [
    "#  Part 4. Use Cross Validation"
   ]
  },
  {
   "cell_type": "code",
   "execution_count": 34,
   "id": "b345bafd",
   "metadata": {},
   "outputs": [
    {
     "name": "stdout",
     "output_type": "stream",
     "text": [
      "[0.83918826 0.87051239 0.85871066 0.87202623 0.84364641]\n"
     ]
    }
   ],
   "source": [
    "# Use the cross_val_score function to repeat your experiment across many shuffles of the data\n",
    "from sklearn.model_selection import cross_val_score\n",
    "print(cross_val_score(regression, X, Y, cv=5))"
   ]
  },
  {
   "cell_type": "markdown",
   "id": "c052e1c4",
   "metadata": {},
   "source": [
    "#Report on their finding and their significance\n",
    "\n",
    "as we can see the model performs similary for five different set of instances of unseen data. It predicts well on data not used during the training of the model. Its very important to do cross validation for model checking. The fives range between 0.83- 0.87 therefore we can see the accuract is very high."
   ]
  },
  {
   "cell_type": "code",
   "execution_count": 35,
   "id": "7685cc87",
   "metadata": {},
   "outputs": [
    {
     "data": {
      "text/html": [
       "<div>\n",
       "<style scoped>\n",
       "    .dataframe tbody tr th:only-of-type {\n",
       "        vertical-align: middle;\n",
       "    }\n",
       "\n",
       "    .dataframe tbody tr th {\n",
       "        vertical-align: top;\n",
       "    }\n",
       "\n",
       "    .dataframe thead th {\n",
       "        text-align: right;\n",
       "    }\n",
       "</style>\n",
       "<table border=\"1\" class=\"dataframe\">\n",
       "  <thead>\n",
       "    <tr style=\"text-align: right;\">\n",
       "      <th></th>\n",
       "      <th>Size nm^3</th>\n",
       "    </tr>\n",
       "  </thead>\n",
       "  <tbody>\n",
       "    <tr>\n",
       "      <th>521</th>\n",
       "      <td>1.177623e+05</td>\n",
       "    </tr>\n",
       "    <tr>\n",
       "      <th>737</th>\n",
       "      <td>8.687293e+05</td>\n",
       "    </tr>\n",
       "    <tr>\n",
       "      <th>740</th>\n",
       "      <td>1.084893e+06</td>\n",
       "    </tr>\n",
       "    <tr>\n",
       "      <th>660</th>\n",
       "      <td>1.716039e+06</td>\n",
       "    </tr>\n",
       "    <tr>\n",
       "      <th>411</th>\n",
       "      <td>9.536850e+05</td>\n",
       "    </tr>\n",
       "    <tr>\n",
       "      <th>...</th>\n",
       "      <td>...</td>\n",
       "    </tr>\n",
       "    <tr>\n",
       "      <th>436</th>\n",
       "      <td>6.305199e+05</td>\n",
       "    </tr>\n",
       "    <tr>\n",
       "      <th>764</th>\n",
       "      <td>7.676234e+05</td>\n",
       "    </tr>\n",
       "    <tr>\n",
       "      <th>88</th>\n",
       "      <td>8.684308e+05</td>\n",
       "    </tr>\n",
       "    <tr>\n",
       "      <th>63</th>\n",
       "      <td>9.737511e+05</td>\n",
       "    </tr>\n",
       "    <tr>\n",
       "      <th>826</th>\n",
       "      <td>4.786314e+03</td>\n",
       "    </tr>\n",
       "  </tbody>\n",
       "</table>\n",
       "<p>100 rows × 1 columns</p>\n",
       "</div>"
      ],
      "text/plain": [
       "        Size nm^3\n",
       "521  1.177623e+05\n",
       "737  8.687293e+05\n",
       "740  1.084893e+06\n",
       "660  1.716039e+06\n",
       "411  9.536850e+05\n",
       "..            ...\n",
       "436  6.305199e+05\n",
       "764  7.676234e+05\n",
       "88   8.684308e+05\n",
       "63   9.737511e+05\n",
       "826  4.786314e+03\n",
       "\n",
       "[100 rows x 1 columns]"
      ]
     },
     "execution_count": 35,
     "metadata": {},
     "output_type": "execute_result"
    }
   ],
   "source": [
    "y_test"
   ]
  },
  {
   "cell_type": "code",
   "execution_count": 28,
   "id": "a4e84756",
   "metadata": {},
   "outputs": [],
   "source": []
  },
  {
   "cell_type": "markdown",
   "id": "9715154f",
   "metadata": {},
   "source": [
    "# Part 5. Using Polynomial Regression"
   ]
  },
  {
   "cell_type": "code",
   "execution_count": 29,
   "id": "e04aedf9",
   "metadata": {},
   "outputs": [],
   "source": [
    "import numpy as np\n",
    "from sklearn.preprocessing import PolynomialFeatures"
   ]
  },
  {
   "cell_type": "code",
   "execution_count": 48,
   "id": "a1d2787b",
   "metadata": {},
   "outputs": [],
   "source": [
    "\n",
    "# Using the PolynomialFeatures library perform another regression on an augmented dataset of degree 2\n",
    "# Step 1: data preparation\n",
    "poly = PolynomialFeatures(degree=2)\n",
    "X_TRAN = poly.fit_transform(X_train)\n",
    "X_test_ = poly.fit_transform(X_test)"
   ]
  },
  {
   "cell_type": "code",
   "execution_count": 49,
   "id": "ad7d1b01",
   "metadata": {},
   "outputs": [
    {
     "data": {
      "text/plain": [
       "array([[ 0.00000000e+00,  1.20000000e+01, -1.27197810e-07,\n",
       "         1.26444795e-11,  2.00000000e+00,  2.85714287e-02]])"
      ]
     },
     "execution_count": 49,
     "metadata": {},
     "output_type": "execute_result"
    }
   ],
   "source": [
    "# Step 3: define and train a model\n",
    "\n",
    "# Instantiate\n",
    "model = LinearRegression()\n",
    "\n",
    "# Fit\n",
    "model.fit(X_TRAN, y_train)\n",
    "\n",
    "# Obtain coefficients\n",
    "model.coef_"
   ]
  },
  {
   "cell_type": "code",
   "execution_count": 51,
   "id": "0eeb91c4",
   "metadata": {},
   "outputs": [
    {
     "data": {
      "text/plain": [
       "1.0"
      ]
     },
     "execution_count": 51,
     "metadata": {},
     "output_type": "execute_result"
    }
   ],
   "source": [
    "model.score(X_TRAN, y_train)"
   ]
  },
  {
   "cell_type": "code",
   "execution_count": 52,
   "id": "33221ecd",
   "metadata": {},
   "outputs": [
    {
     "data": {
      "text/plain": [
       "array([[ 0.00000000e+00,  1.20000000e+01, -1.27197810e-07,\n",
       "         1.26444795e-11,  2.00000000e+00,  2.85714287e-02]])"
      ]
     },
     "execution_count": 52,
     "metadata": {},
     "output_type": "execute_result"
    }
   ],
   "source": [
    "model.coef_"
   ]
  },
  {
   "cell_type": "markdown",
   "id": "390f73c6",
   "metadata": {},
   "source": [
    "\\begin{equation} Y_i = { (0.00000000e) + (1.20000000e^1 * a) +  (-1.27197810e^-7*b) + (1.26444795e^-11*a^2) + (2.00000000e+00*ab) + (2.85714287e^-2 * b^2)}\\end{equation}"
   ]
  },
  {
   "cell_type": "code",
   "execution_count": 53,
   "id": "16f21bce",
   "metadata": {},
   "outputs": [
    {
     "data": {
      "text/plain": [
       "array([2.04788521e-05])"
      ]
     },
     "execution_count": 53,
     "metadata": {},
     "output_type": "execute_result"
    }
   ],
   "source": [
    "model.intercept_"
   ]
  },
  {
   "cell_type": "code",
   "execution_count": 46,
   "id": "43e8936e",
   "metadata": {},
   "outputs": [
    {
     "data": {
      "text/plain": [
       "array([[1.17762314e+05],\n",
       "       [8.68729257e+05],\n",
       "       [1.08489300e+06],\n",
       "       [1.71603946e+06],\n",
       "       [9.53685000e+05],\n",
       "       [1.15057114e+05],\n",
       "       [2.22299400e+05],\n",
       "       [2.85719400e+05],\n",
       "       [2.87802714e+05],\n",
       "       [3.58129714e+05],\n",
       "       [2.43109457e+05],\n",
       "       [2.56621829e+05],\n",
       "       [8.23168314e+05],\n",
       "       [1.28610714e+05],\n",
       "       [3.55214714e+05],\n",
       "       [5.49207314e+05],\n",
       "       [7.11794571e+04],\n",
       "       [4.10720600e+05],\n",
       "       [2.17334314e+05],\n",
       "       [1.48665911e+06],\n",
       "       [7.61464000e+04],\n",
       "       [3.30257157e+02],\n",
       "       [1.44061911e+06],\n",
       "       [6.87856114e+05],\n",
       "       [3.04432457e+05],\n",
       "       [1.23172829e+05],\n",
       "       [3.30255457e+05],\n",
       "       [7.97577257e+05],\n",
       "       [1.07736803e+06],\n",
       "       [1.50313257e+05],\n",
       "       [3.50800114e+05],\n",
       "       [1.16391429e+05],\n",
       "       [3.60092314e+05],\n",
       "       [6.22649829e+05],\n",
       "       [3.89294314e+05],\n",
       "       [9.72528114e+05],\n",
       "       [4.92891314e+05],\n",
       "       [4.52268000e+05],\n",
       "       [5.54434600e+05],\n",
       "       [9.38430829e+05],\n",
       "       [2.24846314e+05],\n",
       "       [8.28351143e+04],\n",
       "       [9.65613829e+05],\n",
       "       [1.14028114e+05],\n",
       "       [4.08676457e+05],\n",
       "       [1.01254603e+06],\n",
       "       [4.80946400e+05],\n",
       "       [3.60768257e+05],\n",
       "       [3.19070314e+05],\n",
       "       [8.73038314e+05],\n",
       "       [3.05002257e+05],\n",
       "       [1.59435511e+06],\n",
       "       [1.24219443e+06],\n",
       "       [1.48395457e+05],\n",
       "       [1.36031143e+04],\n",
       "       [1.10432926e+06],\n",
       "       [5.25291429e+05],\n",
       "       [2.44177114e+05],\n",
       "       [1.18924114e+05],\n",
       "       [4.55983857e+05],\n",
       "       [9.71624114e+05],\n",
       "       [9.13729029e+05],\n",
       "       [2.45060457e+05],\n",
       "       [4.03842857e+05],\n",
       "       [1.40512903e+06],\n",
       "       [3.34372457e+05],\n",
       "       [1.02252331e+06],\n",
       "       [3.37170857e+05],\n",
       "       [6.80136829e+05],\n",
       "       [3.11877257e+05],\n",
       "       [1.04920946e+06],\n",
       "       [1.30851000e+05],\n",
       "       [4.94674314e+05],\n",
       "       [5.56986600e+05],\n",
       "       [6.51534571e+04],\n",
       "       [7.32261029e+05],\n",
       "       [1.02109714e+05],\n",
       "       [7.88616000e+04],\n",
       "       [8.23033029e+05],\n",
       "       [3.03944714e+05],\n",
       "       [2.77241143e+04],\n",
       "       [3.42182029e+05],\n",
       "       [1.10411426e+06],\n",
       "       [7.12977114e+05],\n",
       "       [1.50487143e+04],\n",
       "       [3.19512429e+05],\n",
       "       [8.68479400e+05],\n",
       "       [3.13061829e+05],\n",
       "       [3.77713029e+05],\n",
       "       [6.39442429e+05],\n",
       "       [1.24874203e+06],\n",
       "       [1.46083211e+06],\n",
       "       [4.99694829e+05],\n",
       "       [1.89236829e+05],\n",
       "       [1.23976740e+06],\n",
       "       [6.30519857e+05],\n",
       "       [7.67623429e+05],\n",
       "       [8.68430829e+05],\n",
       "       [9.73751114e+05],\n",
       "       [4.78631429e+03]])"
      ]
     },
     "execution_count": 46,
     "metadata": {},
     "output_type": "execute_result"
    }
   ],
   "source": [
    "#predict\n",
    "model.predict(X_test_)"
   ]
  },
  {
   "cell_type": "code",
   "execution_count": 47,
   "id": "f2d819d8",
   "metadata": {},
   "outputs": [
    {
     "data": {
      "text/plain": [
       "array([1.65716046e-05])"
      ]
     },
     "execution_count": 47,
     "metadata": {},
     "output_type": "execute_result"
    }
   ],
   "source": [
    "model.intercept_"
   ]
  },
  {
   "cell_type": "markdown",
   "id": "64ffb751",
   "metadata": {},
   "source": [
    "#Report on the metrics and output the resultant equation as you did in Part 3.\n",
    "\n",
    "the model using polynomial features scored 1, We can see that the score has increase as compared to the linear line. a quadratic curve is able to fit the data better than a linear line. However since we have 1 as a score, the model may have ovefitted because  we dont have enought  training sample. Basically it performs well on the data but it generalizes poorly. Its not ideal to have a score of 1."
   ]
  }
 ],
 "metadata": {
  "kernelspec": {
   "display_name": "Python 3 (ipykernel)",
   "language": "python",
   "name": "python3"
  },
  "language_info": {
   "codemirror_mode": {
    "name": "ipython",
    "version": 3
   },
   "file_extension": ".py",
   "mimetype": "text/x-python",
   "name": "python",
   "nbconvert_exporter": "python",
   "pygments_lexer": "ipython3",
   "version": "3.8.12"
  },
  "toc": {
   "base_numbering": 1,
   "nav_menu": {},
   "number_sections": true,
   "sideBar": true,
   "skip_h1_title": false,
   "title_cell": "Table of Contents",
   "title_sidebar": "Contents",
   "toc_cell": false,
   "toc_position": {},
   "toc_section_display": true,
   "toc_window_display": false
  }
 },
 "nbformat": 4,
 "nbformat_minor": 5
}
